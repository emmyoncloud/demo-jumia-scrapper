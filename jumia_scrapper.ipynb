{
 "cells": [
  {
   "cell_type": "code",
   "execution_count": 1,
   "id": "40adcd63",
   "metadata": {},
   "outputs": [],
   "source": [
    "import os\n",
    "import re\n",
    "import requests\n",
    "import time\n",
    "import pandas as pd\n",
    "import pygsheets\n",
    "import unicodedata\n",
    "from bs4 import BeautifulSoup as bs\n",
    "from datetime import datetime\n",
    "from pytz import timezone"
   ]
  },
  {
   "cell_type": "code",
   "execution_count": 2,
   "id": "92afa6c1",
   "metadata": {},
   "outputs": [],
   "source": [
    "def extract_jumia_price(url):\n",
    "    request = requests.get(url)\n",
    "    soup = bs(request.content,'html.parser')\n",
    "    product_name = soup.find(\"h1\",{\"class\":\"-fs20 -pts -pbxs\"}).get_text()\n",
    "    new_str = unicodedata.normalize(\"NFKD\", product_name)\n",
    "    price = soup.find(\"span\",{\"class\":\"-b -ubpt -tal -fs24 -prxs\"}).get_text()\n",
    "    prince_int = int(''.join(re.findall(r'\\d+', price)))\n",
    "    time_now = datetime.now(timezone(\"Africa/Lagos\")).strftime('%Y-%m-%d %H:%M')\n",
    "    return [new_str, prince_int, time_now]"
   ]
  },
  {
   "cell_type": "code",
   "execution_count": 3,
   "id": "1044f64b",
   "metadata": {},
   "outputs": [],
   "source": [
    "path = 'optimum-agent-429214-s3-6701d765e026.json'\n",
    "sheet_id = '12dLBJw91FYhWUDVlXejgzslk1gW9q1qB36I8UEbIhhs'\n",
    "URL = \"https://www.jumia.com.ng/hikers-43-frameless-fhd-led-tv-black-250798217.html\"\n",
    "gc = pygsheets.authorize(service_account_file = path)\n",
    "gsheet_1 = gc.open_by_key(sheet_id)"
   ]
  },
  {
   "cell_type": "code",
   "execution_count": 4,
   "id": "4662cb55",
   "metadata": {},
   "outputs": [],
   "source": [
    "output = extract_jumia_price(URL)\n",
    "df = pd.DataFrame([output], columns = [\"Product\", \"Price\", \"Date Time\"])"
   ]
  },
  {
   "cell_type": "code",
   "execution_count": 5,
   "id": "d8c90ef2",
   "metadata": {},
   "outputs": [],
   "source": [
    "ws_1 = gsheet_1.worksheet()\n",
    "sheet_df = ws_1.get_as_df()\n",
    "\n",
    "if sheet_df.empty:\n",
    "    ws_1.set_dataframe(df,\n",
    "                     (1,1))\n",
    "else:\n",
    "    df = pd.concat([sheet_df, df], \n",
    "                   ignore_index=True)\n",
    "    ws_1.set_dataframe(df,\n",
    "                     (1,1))"
   ]
  },
  {
   "cell_type": "code",
   "execution_count": null,
   "id": "3420caf8",
   "metadata": {},
   "outputs": [],
   "source": []
  }
 ],
 "metadata": {
  "kernelspec": {
   "display_name": "Python 3 (ipykernel)",
   "language": "python",
   "name": "python3"
  },
  "language_info": {
   "codemirror_mode": {
    "name": "ipython",
    "version": 3
   },
   "file_extension": ".py",
   "mimetype": "text/x-python",
   "name": "python",
   "nbconvert_exporter": "python",
   "pygments_lexer": "ipython3",
   "version": "3.9.12"
  }
 },
 "nbformat": 4,
 "nbformat_minor": 5
}
